{
  "nbformat": 4,
  "nbformat_minor": 0,
  "metadata": {
    "colab": {
      "name": "Lab06Task02.ipynb",
      "provenance": [],
      "collapsed_sections": []
    },
    "kernelspec": {
      "name": "python3",
      "display_name": "Python 3"
    },
    "language_info": {
      "name": "python"
    }
  },
  "cells": [
    {
      "cell_type": "code",
      "metadata": {
        "colab": {
          "base_uri": "https://localhost:8080/"
        },
        "id": "gzQH6kLeCqaF",
        "outputId": "10ca16af-d687-4066-d432-86458506f12e"
      },
      "source": [
        "pip install binarytree"
      ],
      "execution_count": null,
      "outputs": [
        {
          "output_type": "stream",
          "text": [
            "Collecting binarytree\n",
            "  Downloading https://files.pythonhosted.org/packages/df/01/0a932b539beb7fee36289f72fde5486ed49d73c0c24271a4eaab3e73084e/binarytree-6.3.0-py3-none-any.whl\n",
            "Requirement already satisfied: setuptools>=42 in /usr/local/lib/python3.7/dist-packages (from binarytree) (54.2.0)\n",
            "Requirement already satisfied: graphviz in /usr/local/lib/python3.7/dist-packages (from binarytree) (0.10.1)\n",
            "Collecting setuptools-scm[toml]>=3.4\n",
            "  Downloading https://files.pythonhosted.org/packages/c4/d5/e50358c82026f44cd8810c8165002746cd3f8b78865f6bcf5d7f0fe4f652/setuptools_scm-6.0.1-py3-none-any.whl\n",
            "Requirement already satisfied: toml; extra == \"toml\" in /usr/local/lib/python3.7/dist-packages (from setuptools-scm[toml]>=3.4->binarytree) (0.10.2)\n",
            "Installing collected packages: setuptools-scm, binarytree\n",
            "Successfully installed binarytree-6.3.0 setuptools-scm-6.0.1\n"
          ],
          "name": "stdout"
        }
      ]
    },
    {
      "cell_type": "markdown",
      "metadata": {
        "id": "e9pWvLq-Gw0o"
      },
      "source": [
        "for i in nodes:\n",
        "  if i!=None:\n",
        "    nodes_conv.append(ord(i))\n",
        "  else:\n",
        "    nodes_conv.append(i)"
      ]
    },
    {
      "cell_type": "code",
      "metadata": {
        "colab": {
          "base_uri": "https://localhost:8080/"
        },
        "id": "meXAcId1Ctgh",
        "outputId": "39bbb864-027a-4325-b815-fcd22bf396c0"
      },
      "source": [
        "from binarytree import build\n",
        "nodes = [\"S\", \"A\", \"G\", \"B\",\"C\",None,None,\"D\",None,\"D\",\"G\",None,None,None,None,None,\"G\",None,None,None,\"G\"]\n",
        "nodes2 = [0, 1, 10, 2,1,None,None,5,None,3,4,None,None,None,None,None,2,None,None,None,2]\n",
        "nodes_conv=[]\n",
        "for i in nodes: \n",
        "  if i!=None:\n",
        "     nodes_conv.append(ord(i)) \n",
        "  else:\n",
        "     nodes_conv.append(i)\n",
        "binary_tree=build(nodes2)\n",
        "binary_tree2=build(nodes_conv)\n",
        "print(binary_tree)\n",
        "print(binary_tree2)"
      ],
      "execution_count": null,
      "outputs": [
        {
          "output_type": "stream",
          "text": [
            "\n",
            "        ________0\n",
            "       /         \\\n",
            "      1____       10\n",
            "     /     \\\n",
            "  __2     __1\n",
            " /       /   \\\n",
            "5       3     4\n",
            " \\       \\\n",
            "  2       2\n",
            "\n",
            "\n",
            "           _____________83\n",
            "          /               \\\n",
            "        _65______          71\n",
            "       /         \\\n",
            "  ____66      ____67\n",
            " /           /      \\\n",
            "68          68       71\n",
            "  \\           \\\n",
            "   71          71\n",
            "\n"
          ],
          "name": "stdout"
        }
      ]
    },
    {
      "cell_type": "code",
      "metadata": {
        "id": "dHhCR0JG1FBx"
      },
      "source": [
        "h = {\"S\":5,\"A\":3,\"B\":4,\"C\":2,\"D\":6,\"G\":0}"
      ],
      "execution_count": null,
      "outputs": []
    },
    {
      "cell_type": "code",
      "metadata": {
        "colab": {
          "base_uri": "https://localhost:8080/"
        },
        "id": "UeHV0HSfzIuH",
        "outputId": "60107046-0783-42a7-c557-e8b1cee0565b"
      },
      "source": [
        "import copy\n",
        "path = [[[\"S\"],5]]\n",
        "check=False\n",
        "while (1):\n",
        "  #for worst case scenario\n",
        "  for i in range(0,len(path)):\n",
        "    if path[i][0][-1]!=\"G\":\n",
        "      #print(path[i][0][-1])\n",
        "      break\n",
        "    elif i==len(path)-1:\n",
        "      check=True\n",
        "  if check==True:\n",
        "    min=999\n",
        "    final_path=[]\n",
        "    for array in path:\n",
        "      if array[1]<min:\n",
        "        min,final_path=array[1],array[0]\n",
        "    print(\"Final Path is: {} with optimal cost {}\".format(final_path,min))\n",
        "    break\n",
        "  if path[0][0][-1]!=\"G\":\n",
        "    val = path.pop(0)\n",
        "    root = binary_tree\n",
        "    root2= binary_tree2\n",
        "    q = [root2]\n",
        "    q2 = [root]\n",
        "    while (1):\n",
        "      tmp1 = q.pop(0)\n",
        "      tmp2 = q2.pop(0)\n",
        "      if chr(tmp1.value) == val[0][-1]:\n",
        "        break\n",
        "      if tmp1.left:\n",
        "        q.append(tmp1.left)\n",
        "        q2.append(tmp2.left)\n",
        "      if tmp1.right:\n",
        "        q.append(tmp1.right)\n",
        "        q2.append(tmp2.right)\n",
        "    root = tmp2\n",
        "    root2 = tmp1\n",
        "  else:\n",
        "    val = path.pop(0)\n",
        "    path.append(val)\n",
        "    continue\n",
        "  #print(root)\n",
        "  #print(root2)\n",
        "  #print(val)\n",
        "  tmp = copy.deepcopy(val)\n",
        "  if root.left:\n",
        "    val[0].append(chr(root2.left.value))\n",
        "    #print(val[1])\n",
        "    #print(h[chr(root2.value)])\n",
        "    #print(root.left.value)\n",
        "    val[1]=val[1]-h[chr(root2.value)]+root.left.value+h[chr(root2.left.value)]\n",
        "    path.append(val)\n",
        "  if root.right:\n",
        "    tmp[0].append(chr(root2.right.value))\n",
        "    tmp[1]=tmp[1]-h[chr(root2.value)]+root.right.value+h[chr(root2.right.value)]\n",
        "    path.append(tmp)\n",
        "  #for optimality\n",
        "  if path[-1][0][-1]==\"G\":\n",
        "    val = path[-1][1]\n",
        "    for i in range(0,len(path)-1):\n",
        "      if val>path[i][1]:\n",
        "        break\n",
        "      elif i==len(path)-2:\n",
        "        #print(\"Final Path is: {} with optimal cost {}\".format(path[0][0],path[0][1]))\n",
        "        check=True\n",
        "  print(path)"
      ],
      "execution_count": null,
      "outputs": [
        {
          "output_type": "stream",
          "text": [
            "[[['S', 'A'], 4], [['S', 'G'], 10]]\n",
            "[[['S', 'G'], 10], [['S', 'A', 'B'], 7], [['S', 'A', 'C'], 4]]\n",
            "[[['S', 'A', 'C'], 4], [['S', 'G'], 10], [['S', 'A', 'B', 'D'], 14]]\n",
            "[[['S', 'G'], 10], [['S', 'A', 'B', 'D'], 14], [['S', 'A', 'C', 'D'], 11], [['S', 'A', 'C', 'G'], 6]]\n",
            "Final Path is: ['S', 'A', 'C', 'G'] with optimal cost 6\n"
          ],
          "name": "stdout"
        }
      ]
    }
  ]
}